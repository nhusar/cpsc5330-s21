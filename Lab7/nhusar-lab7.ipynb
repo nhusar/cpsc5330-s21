{
 "cells": [
  {
   "cell_type": "code",
   "execution_count": 1,
   "id": "d9e4d9cb",
   "metadata": {},
   "outputs": [
    {
     "data": {
      "application/vnd.jupyter.widget-view+json": {
       "model_id": "375d111fb1dc4f16830c9b385d1b9671",
       "version_major": 2,
       "version_minor": 0
      },
      "text/plain": [
       "VBox()"
      ]
     },
     "metadata": {},
     "output_type": "display_data"
    },
    {
     "name": "stdout",
     "output_type": "stream",
     "text": [
      "Starting Spark application\n"
     ]
    },
    {
     "data": {
      "text/html": [
       "<table>\n",
       "<tr><th>ID</th><th>YARN Application ID</th><th>Kind</th><th>State</th><th>Spark UI</th><th>Driver log</th><th>Current session?</th></tr><tr><td>1</td><td>application_1621908624911_0002</td><td>pyspark</td><td>idle</td><td><a target=\"_blank\" href=\"http://ip-172-31-40-93.us-west-2.compute.internal:20888/proxy/application_1621908624911_0002/\" class=\"emr-proxy-link\" emr-resource=\"j-3UVRSDY4SM5G1\n",
       "\" application-id=\"application_1621908624911_0002\">Link</a></td><td><a target=\"_blank\" href=\"http://ip-172-31-42-176.us-west-2.compute.internal:8042/node/containerlogs/container_1621908624911_0002_01_000001/livy\" >Link</a></td><td>✔</td></tr></table>"
      ],
      "text/plain": [
       "<IPython.core.display.HTML object>"
      ]
     },
     "metadata": {},
     "output_type": "display_data"
    },
    {
     "data": {
      "application/vnd.jupyter.widget-view+json": {
       "model_id": "",
       "version_major": 2,
       "version_minor": 0
      },
      "text/plain": [
       "FloatProgress(value=0.0, bar_style='info', description='Progress:', layout=Layout(height='25px', width='50%'),…"
      ]
     },
     "metadata": {},
     "output_type": "display_data"
    },
    {
     "name": "stdout",
     "output_type": "stream",
     "text": [
      "SparkSession available as 'spark'.\n"
     ]
    },
    {
     "data": {
      "application/vnd.jupyter.widget-view+json": {
       "model_id": "",
       "version_major": 2,
       "version_minor": 0
      },
      "text/plain": [
       "FloatProgress(value=0.0, bar_style='info', description='Progress:', layout=Layout(height='25px', width='50%'),…"
      ]
     },
     "metadata": {},
     "output_type": "display_data"
    },
    {
     "name": "stdout",
     "output_type": "stream",
     "text": [
      "<SparkContext master=yarn appName=livy-session-1>"
     ]
    }
   ],
   "source": [
    "sc"
   ]
  },
  {
   "cell_type": "code",
   "execution_count": 2,
   "id": "5e38edd4",
   "metadata": {},
   "outputs": [
    {
     "data": {
      "application/vnd.jupyter.widget-view+json": {
       "model_id": "513049d49acc4eabb2a7d1e5fd14bed9",
       "version_major": 2,
       "version_minor": 0
      },
      "text/plain": [
       "VBox()"
      ]
     },
     "metadata": {},
     "output_type": "display_data"
    },
    {
     "data": {
      "application/vnd.jupyter.widget-view+json": {
       "model_id": "",
       "version_major": 2,
       "version_minor": 0
      },
      "text/plain": [
       "FloatProgress(value=0.0, bar_style='info', description='Progress:', layout=Layout(height='25px', width='50%'),…"
      ]
     },
     "metadata": {},
     "output_type": "display_data"
    }
   ],
   "source": [
    "import re\n",
    "from pyspark.sql.functions import col"
   ]
  },
  {
   "cell_type": "code",
   "execution_count": 3,
   "id": "560ddba7",
   "metadata": {},
   "outputs": [
    {
     "data": {
      "application/vnd.jupyter.widget-view+json": {
       "model_id": "7a02ec88b76845aba12c149f861875c2",
       "version_major": 2,
       "version_minor": 0
      },
      "text/plain": [
       "VBox()"
      ]
     },
     "metadata": {},
     "output_type": "display_data"
    },
    {
     "data": {
      "application/vnd.jupyter.widget-view+json": {
       "model_id": "",
       "version_major": 2,
       "version_minor": 0
      },
      "text/plain": [
       "FloatProgress(value=0.0, bar_style='info', description='Progress:', layout=Layout(height='25px', width='50%'),…"
      ]
     },
     "metadata": {},
     "output_type": "display_data"
    }
   ],
   "source": [
    "CORPORA_PATH = 's3://cpsc5330s21/data-input/textcorpora-SMALL/'\n",
    "RE_WORDS = re.compile(r'[a-z]+')"
   ]
  },
  {
   "cell_type": "code",
   "execution_count": 4,
   "id": "2e5851c4",
   "metadata": {},
   "outputs": [
    {
     "data": {
      "application/vnd.jupyter.widget-view+json": {
       "model_id": "f84518db926e45128a2295814abbe13e",
       "version_major": 2,
       "version_minor": 0
      },
      "text/plain": [
       "VBox()"
      ]
     },
     "metadata": {},
     "output_type": "display_data"
    },
    {
     "data": {
      "application/vnd.jupyter.widget-view+json": {
       "model_id": "",
       "version_major": 2,
       "version_minor": 0
      },
      "text/plain": [
       "FloatProgress(value=0.0, bar_style='info', description='Progress:', layout=Layout(height='25px', width='50%'),…"
      ]
     },
     "metadata": {},
     "output_type": "display_data"
    }
   ],
   "source": [
    "def extract_tokens(rec):\n",
    "    doc_id = rec[0].split('/')[-1].split('.')[0]\n",
    "    return [(doc_id, tok) for tok in RE_WORDS.findall(rec[1].lower())]\n",
    "\n",
    "\n",
    "def indexDocuments(path):\n",
    "\n",
    "    doc_tokens = sc \\\n",
    "        .wholeTextFiles(path) \\\n",
    "        .flatMap(extract_tokens) \\\n",
    "        .toDF(schema=['docid', 'token'])\n",
    "\n",
    "    doc_token_count = doc_tokens \\\n",
    "        .groupBy(\"docid\", \"token\") \\\n",
    "        .count()\n",
    "\n",
    "    doc_size = doc_token_count \\\n",
    "        .groupBy(\"docid\") \\\n",
    "        .sum(\"count\") \\\n",
    "        .withColumnRenamed(\"sum(count)\", \"doc_size\")\n",
    "\n",
    "    token_docs = doc_token_count \\\n",
    "        .groupBy(\"token\") \\\n",
    "        .count() \\\n",
    "        .withColumnRenamed(\"count\", \"token_ndocs\")\n",
    "\n",
    "    tfidf = doc_token_count \\\n",
    "        .join(doc_size, on=\"docid\") \\\n",
    "        .join(token_docs, on=\"token\") \\\n",
    "        .withColumn(\"tfidf\", 1000000 * (col(\"count\") / col(\"doc_size\")) / col(\"token_ndocs\")) \\\n",
    "        .select(col(\"token\"), col(\"docid\"), col(\"tfidf\")) \\\n",
    "        .sort(col(\"tfidf\").desc())\n",
    "    \n",
    "    return tfidf"
   ]
  },
  {
   "cell_type": "code",
   "execution_count": 5,
   "id": "7f3cbadb",
   "metadata": {},
   "outputs": [
    {
     "data": {
      "application/vnd.jupyter.widget-view+json": {
       "model_id": "db0652fa71e14a0388737a087a9d6040",
       "version_major": 2,
       "version_minor": 0
      },
      "text/plain": [
       "VBox()"
      ]
     },
     "metadata": {},
     "output_type": "display_data"
    },
    {
     "data": {
      "application/vnd.jupyter.widget-view+json": {
       "model_id": "",
       "version_major": 2,
       "version_minor": 0
      },
      "text/plain": [
       "FloatProgress(value=0.0, bar_style='info', description='Progress:', layout=Layout(height='25px', width='50%'),…"
      ]
     },
     "metadata": {},
     "output_type": "display_data"
    },
    {
     "name": "stdout",
     "output_type": "stream",
     "text": [
      "+-----+-------------+-----------------+\n",
      "|token|        docid|            tfidf|\n",
      "+-----+-------------+-----------------+\n",
      "|alice|carroll-alice|14560.08779952442|\n",
      "|  the|    bible-kjv|8085.325102735142|\n",
      "+-----+-------------+-----------------+\n",
      "only showing top 2 rows"
     ]
    }
   ],
   "source": [
    "myindex = indexDocuments(CORPORA_PATH)\n",
    "myindex.persist()\n",
    "myindex.show(2)"
   ]
  },
  {
   "cell_type": "code",
   "execution_count": 10,
   "id": "a43fd9f4",
   "metadata": {},
   "outputs": [
    {
     "data": {
      "application/vnd.jupyter.widget-view+json": {
       "model_id": "8804aa9a9d2a481c8ce7cada53a45114",
       "version_major": 2,
       "version_minor": 0
      },
      "text/plain": [
       "VBox()"
      ]
     },
     "metadata": {},
     "output_type": "display_data"
    },
    {
     "data": {
      "application/vnd.jupyter.widget-view+json": {
       "model_id": "",
       "version_major": 2,
       "version_minor": 0
      },
      "text/plain": [
       "FloatProgress(value=0.0, bar_style='info', description='Progress:', layout=Layout(height='25px', width='50%'),…"
      ]
     },
     "metadata": {},
     "output_type": "display_data"
    }
   ],
   "source": [
    "def relevance(query, df, top_n=5):\n",
    "    tokens = [[tok] for tok in RE_WORDS.findall(query.lower())]\n",
    "    if not tokens:\n",
    "        return []\n",
    "    df_query = sc.parallelize(tokens).toDF(schema=['token'])\n",
    "    return df \\\n",
    "        .join(df_query, on=\"token\") \\\n",
    "        .groupBy(\"docid\").sum(\"tfidf\") \\\n",
    "        .withColumn(\"rank\", col(\"sum(tfidf)\") / len(tokens)) \\\n",
    "        .select(col(\"docid\"), col(\"rank\")) \\\n",
    "        .sort(col(\"rank\").desc()) \\\n",
    "        .take(top_n)\n",
    "\n",
    "\n",
    "def pprint_df(data):\n",
    "    for (i, row) in enumerate(data, 1):\n",
    "        print(\"%d. %-20s %.4f\" % (i, row.docid, row.rank))"
   ]
  },
  {
   "cell_type": "code",
   "execution_count": 12,
   "id": "64b50c47",
   "metadata": {},
   "outputs": [
    {
     "data": {
      "application/vnd.jupyter.widget-view+json": {
       "model_id": "0e38fc7387c142fd82c14ee138f597e8",
       "version_major": 2,
       "version_minor": 0
      },
      "text/plain": [
       "VBox()"
      ]
     },
     "metadata": {},
     "output_type": "display_data"
    },
    {
     "data": {
      "application/vnd.jupyter.widget-view+json": {
       "model_id": "",
       "version_major": 2,
       "version_minor": 0
      },
      "text/plain": [
       "FloatProgress(value=0.0, bar_style='info', description='Progress:', layout=Layout(height='25px', width='50%'),…"
      ]
     },
     "metadata": {},
     "output_type": "display_data"
    },
    {
     "name": "stdout",
     "output_type": "stream",
     "text": [
      "\n",
      "Query: buster, whale, king, and alice the rabbit!\n",
      "1. carroll-alice        3519.2976\n",
      "2. bible-kjv            2138.8566\n",
      "3. burgess-busterbrown  2059.6192\n",
      "4. whitman-leaves       1750.3618\n",
      "5. melville-moby_dick   1636.6326\n",
      "\n",
      "Query: Take a whale to lunch this week!\n",
      "1. melville-moby_dick   980.3922\n",
      "2. austen-emma          799.5355\n",
      "3. carroll-alice        795.4219\n",
      "4. chesterton-brown     761.3356\n",
      "5. burgess-busterbrown  693.6255\n",
      "\n",
      "Query: What would Jesus do about that?\n",
      "1. burgess-busterbrown  513.6672\n",
      "2. shakespeare-caesar   483.0802\n",
      "3. carroll-alice        435.3393\n",
      "4. austen-emma          418.2744\n",
      "5. bible-kjv            395.8176\n",
      "\n",
      "Query: My name is Buster.  Deal with it.\n",
      "1. burgess-busterbrown  1488.0874\n",
      "2. shakespeare-caesar   568.4194\n",
      "3. austen-emma          521.7428\n",
      "4. carroll-alice        506.5478\n",
      "5. blake-poems          485.3013\n",
      "\n",
      "Query: Bodice ripper?\n",
      "\n",
      "Query: What are leaves of grass anyway?\n",
      "1. bible-kjv            814.8655\n",
      "2. whitman-leaves       726.1249\n",
      "3. melville-moby_dick   600.6961\n",
      "4. chesterton-brown     562.8128\n",
      "5. austen-emma          543.9225\n",
      "\n",
      "Query: ??!?"
     ]
    }
   ],
   "source": [
    "for query in [\"buster, whale, king, and alice the rabbit!\",\n",
    "               \"Take a whale to lunch this week!\",\n",
    "              \"What would Jesus do about that?\",\n",
    "              \"My name is Buster.  Deal with it.\",\n",
    "              \"Bodice ripper?\",\n",
    "              \"What are leaves of grass anyway?\",\n",
    "              \"??!?\"]:\n",
    "    print(\"\\nQuery:\", query)\n",
    "    pprint_df(relevance(query, myindex))"
   ]
  },
  {
   "cell_type": "code",
   "execution_count": null,
   "id": "f9a9d10e",
   "metadata": {},
   "outputs": [],
   "source": []
  }
 ],
 "metadata": {
  "kernelspec": {
   "display_name": "PySpark",
   "language": "",
   "name": "pysparkkernel"
  },
  "language_info": {
   "codemirror_mode": {
    "name": "python",
    "version": 3
   },
   "mimetype": "text/x-python",
   "name": "pyspark",
   "pygments_lexer": "python3"
  }
 },
 "nbformat": 4,
 "nbformat_minor": 5
}